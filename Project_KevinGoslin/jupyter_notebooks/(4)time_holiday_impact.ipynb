{
 "cells": [
  {
   "cell_type": "markdown",
   "id": "a3c09351",
   "metadata": {},
   "source": [
    "# Investigating daytime/ night-time and holiday period effect on sound levels\n",
    "\n",
    "This notebook describes code used to label sound recording hourly noise in to 'day' and 'night'. \n",
    "\n",
    "Also described is a regular expression to extract Christmas holiday dates in order to look at any effect holiday time might have on the sound recording values."
   ]
  },
  {
   "cell_type": "markdown",
   "id": "1e9600be",
   "metadata": {},
   "source": [
    "## Looking at 'daytime' and 'night-time' values for sound recordings"
   ]
  },
  {
   "cell_type": "code",
   "execution_count": 1,
   "id": "bd32e2bc",
   "metadata": {},
   "outputs": [],
   "source": [
    "# import libraries\n",
    "import pandas as pd\n",
    "import numpy as np"
   ]
  },
  {
   "cell_type": "code",
   "execution_count": 2,
   "id": "74dae9e8",
   "metadata": {},
   "outputs": [],
   "source": [
    "df = pd.read_csv('../Data/datasets/2015_2021noise_pollution_Cleaned.csv', sep = '\\t', parse_dates = ['datetime'])"
   ]
  },
  {
   "cell_type": "code",
   "execution_count": 3,
   "id": "1d9fb680",
   "metadata": {},
   "outputs": [],
   "source": [
    "# want to add a column with labels splitting the data in to 'day' and 'night'\n",
    "\n",
    "# set the hours for when day starts and night-time begins\n",
    "\n",
    "day_start = 6  # 6am\n",
    "day_end = 18   # 6pm\n",
    "\n",
    "# create time of day column and set to night\n",
    "\n",
    "df['time_of_day'] = 'night'\n",
    "\n",
    "# use hour of the day to specify 6am - 6pm as being 'day'\n",
    "\n",
    "df.loc[(df['hour_of_day'] >= day_start) & (df['hour_of_day'] < day_end), 'time_of_day'] = 'day'"
   ]
  },
  {
   "cell_type": "code",
   "execution_count": 4,
   "id": "b6be5fd8",
   "metadata": {},
   "outputs": [
    {
     "data": {
      "text/html": [
       "<style type=\"text/css\">\n",
       "</style>\n",
       "<table id=\"T_60196\">\n",
       "  <thead>\n",
       "    <tr>\n",
       "      <th class=\"index_name level0\" >monitor</th>\n",
       "      <th id=\"T_60196_level0_col0\" class=\"col_heading level0 col0\" >day</th>\n",
       "      <th id=\"T_60196_level0_col1\" class=\"col_heading level0 col1\" >night</th>\n",
       "    </tr>\n",
       "  </thead>\n",
       "  <tbody>\n",
       "    <tr>\n",
       "      <th id=\"T_60196_level0_row0\" class=\"row_heading level0 row0\" >laeq_BullIsland2</th>\n",
       "      <td id=\"T_60196_row0_col0\" class=\"data row0 col0\" >52.847966</td>\n",
       "      <td id=\"T_60196_row0_col1\" class=\"data row0 col1\" >49.816465</td>\n",
       "    </tr>\n",
       "    <tr>\n",
       "      <th id=\"T_60196_level0_row1\" class=\"row_heading level0 row1\" >laeq_Ballyferm3</th>\n",
       "      <td id=\"T_60196_row1_col0\" class=\"data row1 col0\" >57.266977</td>\n",
       "      <td id=\"T_60196_row1_col1\" class=\"data row1 col1\" >53.977654</td>\n",
       "    </tr>\n",
       "    <tr>\n",
       "      <th id=\"T_60196_level0_row2\" class=\"row_heading level0 row2\" >laeq_Ballymun4</th>\n",
       "      <td id=\"T_60196_row2_col0\" class=\"data row2 col0\" >63.558368</td>\n",
       "      <td id=\"T_60196_row2_col1\" class=\"data row2 col1\" >60.281761</td>\n",
       "    </tr>\n",
       "    <tr>\n",
       "      <th id=\"T_60196_level0_row3\" class=\"row_heading level0 row3\" >laeq_DCCRowingClub5</th>\n",
       "      <td id=\"T_60196_row3_col0\" class=\"data row3 col0\" >56.663883</td>\n",
       "      <td id=\"T_60196_row3_col1\" class=\"data row3 col1\" >52.851832</td>\n",
       "    </tr>\n",
       "    <tr>\n",
       "      <th id=\"T_60196_level0_row4\" class=\"row_heading level0 row4\" >laeq_NavanRoad8</th>\n",
       "      <td id=\"T_60196_row4_col0\" class=\"data row4 col0\" >55.607841</td>\n",
       "      <td id=\"T_60196_row4_col1\" class=\"data row4 col1\" >53.122628</td>\n",
       "    </tr>\n",
       "    <tr>\n",
       "      <th id=\"T_60196_level0_row5\" class=\"row_heading level0 row5\" >laeq_Raheny9</th>\n",
       "      <td id=\"T_60196_row5_col0\" class=\"data row5 col0\" >56.081498</td>\n",
       "      <td id=\"T_60196_row5_col1\" class=\"data row5 col1\" >52.391986</td>\n",
       "    </tr>\n",
       "    <tr>\n",
       "      <th id=\"T_60196_level0_row6\" class=\"row_heading level0 row6\" >laeq_ChanceryPark11</th>\n",
       "      <td id=\"T_60196_row6_col0\" class=\"data row6 col0\" >62.731346</td>\n",
       "      <td id=\"T_60196_row6_col1\" class=\"data row6 col1\" >59.483342</td>\n",
       "    </tr>\n",
       "    <tr>\n",
       "      <th id=\"T_60196_level0_row7\" class=\"row_heading level0 row7\" >laeq_BlessingtonBasin12</th>\n",
       "      <td id=\"T_60196_row7_col0\" class=\"data row7 col0\" >55.287723</td>\n",
       "      <td id=\"T_60196_row7_col1\" class=\"data row7 col1\" >49.688200</td>\n",
       "    </tr>\n",
       "    <tr>\n",
       "      <th id=\"T_60196_level0_row8\" class=\"row_heading level0 row8\" >laeq_DolphinsBarn13</th>\n",
       "      <td id=\"T_60196_row8_col0\" class=\"data row8 col0\" >59.071750</td>\n",
       "      <td id=\"T_60196_row8_col1\" class=\"data row8 col1\" >55.944874</td>\n",
       "    </tr>\n",
       "  </tbody>\n",
       "</table>\n"
      ],
      "text/plain": [
       "<pandas.io.formats.style.Styler at 0x10b02e8e0>"
      ]
     },
     "execution_count": 4,
     "metadata": {},
     "output_type": "execute_result"
    }
   ],
   "source": [
    "# have a look at mean summary of day and night values, would expect night to have lower mean noise values\n",
    "\n",
    "# group by time of day and rename the axis to the monitors, also hide unwanted columns\n",
    "\n",
    "df.groupby(by = 'time_of_day').mean().transpose().rename_axis(columns= 'monitor').style.hide(['day_of_month', 'day_of_week', 'hour_of_day']) \n"
   ]
  },
  {
   "cell_type": "code",
   "execution_count": 5,
   "id": "f1ec8770",
   "metadata": {},
   "outputs": [],
   "source": [
    "# create two different dataframes after splitting them in to night and day\n",
    "\n",
    "df_day = df.loc[df['time_of_day'] == 'day'].copy()\n",
    "df_night = df.loc[df['time_of_day'] == 'night'].copy()\n",
    "\n",
    "# write df_day and df_night to csv file in case use in other analyses\n",
    "\n",
    "df_day.to_csv('../Data/datasets/2015_2021noise_pollution_Daytime.csv', sep='\\t', index = False)\n",
    "df_night.to_csv('../Data/datasets/2015_2021noise_pollution_Nighttime.csv', sep='\\t', index = False)"
   ]
  },
  {
   "cell_type": "markdown",
   "id": "cf514d83",
   "metadata": {},
   "source": [
    "# Looking at holiday dates and effect on noise recordings\n",
    "\n",
    "Using a regular expression pattern to extract Christmas eve, Christmas day and New Years day from the data and comparing it to the average noise recordings.\n",
    "\n",
    "Will have a look at the differences when the whole data is used and also have a look at noise differences when only daytime data is used, or for night-time only values."
   ]
  },
  {
   "cell_type": "code",
   "execution_count": 6,
   "id": "c417acc2",
   "metadata": {},
   "outputs": [],
   "source": [
    "# drop unwanted columns\n",
    "unwanted_cols = ['day_of_month','day_of_week','hour_of_day','month', 'day_name', 'date', 'part_of_week' ,'time_of_day']\n",
    "df.drop(unwanted_cols, axis = 1, inplace=True)\n",
    "df_day.drop(unwanted_cols, axis = 1, inplace=True)\n",
    "df_night.drop(unwanted_cols, axis = 1, inplace=True)"
   ]
  },
  {
   "cell_type": "code",
   "execution_count": 7,
   "id": "1c42551c",
   "metadata": {},
   "outputs": [],
   "source": [
    "# change datetime to string\n",
    "# use Regex pattern to create a new dataframe containing only noise values for Christmas day, 25th December, Stephen's day 26th December, New Year's day 1st Jan\n",
    "df['datetime'] = df['datetime'].astype(str)\n",
    "df_day['datetime'] = df_day['datetime'].astype(str)\n",
    "df_night['datetime'] = df_night['datetime'].astype(str)\n",
    "\n",
    "\n",
    "# reg expression pattern\n",
    "df_christmas = df[df['datetime'].str.contains('\\d{4}-12-25|\\d{4}-12-26|\\d{4}-01-01')] \n",
    "df_christmas_daytime = df_day[df_day['datetime'].str.contains('\\d{4}-12-25|\\d{4}-12-26|\\d{4}-01-01')]\n",
    "df_christmas_night = df_night[df_night['datetime'].str.contains('\\d{4}-12-25|\\d{4}-12-26|\\d{4}-01-01')] \n",
    "\n",
    "# extract array of the mean values for comparison\n",
    "whole_data_mean = df.mean(numeric_only=True)\n",
    "whole_Christmas_mean = df_christmas.mean(numeric_only=True)\n",
    "\n",
    "daytime_mean = df_day.mean(numeric_only=True)\n",
    "daytime_christmas = df_christmas_daytime.mean(numeric_only=True)\n",
    "\n",
    "night_mean = df_night.mean(numeric_only=True)\n",
    "night_christmas = df_christmas_night.mean(numeric_only=True)"
   ]
  },
  {
   "cell_type": "code",
   "execution_count": 8,
   "id": "ac18f17e",
   "metadata": {},
   "outputs": [
    {
     "data": {
      "text/html": [
       "<div>\n",
       "<style scoped>\n",
       "    .dataframe tbody tr th:only-of-type {\n",
       "        vertical-align: middle;\n",
       "    }\n",
       "\n",
       "    .dataframe tbody tr th {\n",
       "        vertical-align: top;\n",
       "    }\n",
       "\n",
       "    .dataframe thead th {\n",
       "        text-align: right;\n",
       "    }\n",
       "</style>\n",
       "<table border=\"1\" class=\"dataframe\">\n",
       "  <thead>\n",
       "    <tr style=\"text-align: right;\">\n",
       "      <th>Monitor</th>\n",
       "      <th>Whole day holiday difference</th>\n",
       "      <th>Daytime holiday difference</th>\n",
       "      <th>Night-time holiday difference</th>\n",
       "    </tr>\n",
       "  </thead>\n",
       "  <tbody>\n",
       "    <tr>\n",
       "      <th>Bull Island</th>\n",
       "      <td>-2.557271</td>\n",
       "      <td>-0.586200</td>\n",
       "      <td>-4.535001</td>\n",
       "    </tr>\n",
       "    <tr>\n",
       "      <th>Ballyfermot</th>\n",
       "      <td>-0.951063</td>\n",
       "      <td>-0.056252</td>\n",
       "      <td>-1.846587</td>\n",
       "    </tr>\n",
       "    <tr>\n",
       "      <th>Ballymun</th>\n",
       "      <td>0.342525</td>\n",
       "      <td>1.351649</td>\n",
       "      <td>-0.667925</td>\n",
       "    </tr>\n",
       "    <tr>\n",
       "      <th>DCC Rowing Club</th>\n",
       "      <td>0.575082</td>\n",
       "      <td>1.828206</td>\n",
       "      <td>-0.680000</td>\n",
       "    </tr>\n",
       "    <tr>\n",
       "      <th>Navan Road</th>\n",
       "      <td>-1.014637</td>\n",
       "      <td>-0.189763</td>\n",
       "      <td>-1.840827</td>\n",
       "    </tr>\n",
       "    <tr>\n",
       "      <th>Raheny</th>\n",
       "      <td>-1.053535</td>\n",
       "      <td>-0.178607</td>\n",
       "      <td>-1.928590</td>\n",
       "    </tr>\n",
       "    <tr>\n",
       "      <th>Chancery Park</th>\n",
       "      <td>0.932422</td>\n",
       "      <td>2.010929</td>\n",
       "      <td>-0.147810</td>\n",
       "    </tr>\n",
       "    <tr>\n",
       "      <th>Blessington Basin</th>\n",
       "      <td>-0.722226</td>\n",
       "      <td>1.414702</td>\n",
       "      <td>-2.863580</td>\n",
       "    </tr>\n",
       "    <tr>\n",
       "      <th>Dolphins Barn</th>\n",
       "      <td>-0.253641</td>\n",
       "      <td>0.967739</td>\n",
       "      <td>-1.477639</td>\n",
       "    </tr>\n",
       "  </tbody>\n",
       "</table>\n",
       "</div>"
      ],
      "text/plain": [
       "Monitor            Whole day holiday difference  Daytime holiday difference  \\\n",
       "Bull Island                           -2.557271                   -0.586200   \n",
       "Ballyfermot                           -0.951063                   -0.056252   \n",
       "Ballymun                               0.342525                    1.351649   \n",
       "DCC Rowing Club                        0.575082                    1.828206   \n",
       "Navan Road                            -1.014637                   -0.189763   \n",
       "Raheny                                -1.053535                   -0.178607   \n",
       "Chancery Park                          0.932422                    2.010929   \n",
       "Blessington Basin                     -0.722226                    1.414702   \n",
       "Dolphins Barn                         -0.253641                    0.967739   \n",
       "\n",
       "Monitor            Night-time holiday difference  \n",
       "Bull Island                            -4.535001  \n",
       "Ballyfermot                            -1.846587  \n",
       "Ballymun                               -0.667925  \n",
       "DCC Rowing Club                        -0.680000  \n",
       "Navan Road                             -1.840827  \n",
       "Raheny                                 -1.928590  \n",
       "Chancery Park                          -0.147810  \n",
       "Blessington Basin                      -2.863580  \n",
       "Dolphins Barn                          -1.477639  "
      ]
     },
     "execution_count": 8,
     "metadata": {},
     "output_type": "execute_result"
    }
   ],
   "source": [
    "# make a dataframe with the difference between the whole datasets mean and the holiday period mean\n",
    "\n",
    "mean_holiday_df = pd.DataFrame({'Whole day holiday difference': whole_data_mean - whole_Christmas_mean,'Daytime holiday difference': daytime_mean - daytime_christmas, 'Night-time holiday difference': night_mean - night_christmas})\n",
    "\n",
    "# rename index for table and give 'Monitor' name to index column\n",
    "mean_holiday_df.rename(index = {'laeq_BullIsland2': 'Bull Island', 'laeq_Ballyferm3': 'Ballyfermot', 'laeq_Ballymun4': 'Ballymun', 'laeq_DCCRowingClub5': 'DCC Rowing Club', 'laeq_NavanRoad8': 'Navan Road', 'laeq_Raheny9': 'Raheny', 'laeq_ChanceryPark11': 'Chancery Park', 'laeq_BlessingtonBasin12': 'Blessington Basin', 'laeq_DolphinsBarn13': 'Dolphins Barn'}).rename_axis(columns= 'Monitor')"
   ]
  }
 ],
 "metadata": {
  "kernelspec": {
   "display_name": "Python 3 (ipykernel)",
   "language": "python",
   "name": "python3"
  },
  "language_info": {
   "codemirror_mode": {
    "name": "ipython",
    "version": 3
   },
   "file_extension": ".py",
   "mimetype": "text/x-python",
   "name": "python",
   "nbconvert_exporter": "python",
   "pygments_lexer": "ipython3",
   "version": "3.9.13"
  }
 },
 "nbformat": 4,
 "nbformat_minor": 5
}
